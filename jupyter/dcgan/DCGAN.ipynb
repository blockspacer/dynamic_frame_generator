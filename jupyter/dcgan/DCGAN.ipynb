{
 "cells": [
  {
   "cell_type": "code",
   "execution_count": 4,
   "metadata": {},
   "outputs": [
    {
     "name": "stderr",
     "output_type": "stream",
     "text": [
      "usage: main.py [-h] --dataset DATASET --dataroot DATAROOT [--workers WORKERS]\n",
      "               [--batchSize BATCHSIZE] [--imageSize IMAGESIZE] [--nz NZ]\n",
      "               [--ngf NGF] [--ndf NDF] [--niter NITER] [--lr LR]\n",
      "               [--beta1 BETA1] [--cuda] [--ngpu NGPU] [--netG NETG]\n",
      "               [--netD NETD] [--outf OUTF] [--manualSeed MANUALSEED]\n",
      "               [--classes CLASSES]\n",
      "main.py: error: the following arguments are required: --dataset, --dataroot\n"
     ]
    },
    {
     "ename": "SystemExit",
     "evalue": "2",
     "output_type": "error",
     "traceback": [
      "An exception has occurred, use %tb to see the full traceback.\n",
      "\u001b[1;31mSystemExit\u001b[0m\u001b[1;31m:\u001b[0m 2\n"
     ]
    }
   ],
   "source": [
    "%run -i ../python/dcgan/main.py"
   ]
  },
  {
   "cell_type": "code",
   "execution_count": null,
   "metadata": {},
   "outputs": [],
   "source": []
  }
 ],
 "metadata": {
  "kernelspec": {
   "display_name": "Python 3",
   "language": "python",
   "name": "python3"
  },
  "language_info": {
   "codemirror_mode": {
    "name": "ipython",
    "version": 3
   },
   "file_extension": ".py",
   "mimetype": "text/x-python",
   "name": "python",
   "nbconvert_exporter": "python",
   "pygments_lexer": "ipython3",
   "version": "3.7.4"
  }
 },
 "nbformat": 4,
 "nbformat_minor": 2
}
