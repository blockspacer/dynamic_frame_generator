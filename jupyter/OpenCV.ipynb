{
 "cells": [
  {
   "cell_type": "code",
   "execution_count": 1,
   "metadata": {},
   "outputs": [],
   "source": [
    "import cv2 as cv2\n",
    "import numpy as np\n",
    "img_str_1 = './images/samples/sample1.jpg'\n",
    "img_str_2 = './images/samples/sample2.jpg'\n",
    "img_str_out = './images/output.jpg'"
   ]
  },
  {
   "cell_type": "code",
   "execution_count": 2,
   "metadata": {
    "scrolled": true
   },
   "outputs": [],
   "source": [
    "img_sample_1 = cv2.imread(img_str_1)\n",
    "height_1, width_1 = img_sample_1.shape[:2]\n",
    "img_sample_2 = cv2.imread(img_str_2)\n",
    "height_2, width_2 = img_sample_2.shape[:2]\n",
    "\n",
    "# Choose smallest boundaries\n",
    "height = height_1\n",
    "width = width_1\n",
    "if height_1 > height_2:\n",
    "    height = height_2\n",
    "if width_1 > width_2:\n",
    "    width = width_2"
   ]
  },
  {
   "cell_type": "code",
   "execution_count": 3,
   "metadata": {},
   "outputs": [],
   "source": [
    "img_out = np.ones((height, width, 3), np.uint8)\n",
    "\n",
    "# Loop through each pixel.\n",
    "for y in range(0, height):\n",
    "    for x in range(0, width):\n",
    "        #print(img_sample_1[y, x], img_sample_2[y, x])\n",
    "        pixel_out = img_sample_1[y, x] ^ img_sample_2[y, x]\n",
    "        #print(pixel_out)\n",
    "        pixel_sum = int(pixel_out[0]) + int(pixel_out[1]) + int(pixel_out[2])\n",
    "        if pixel_sum > 255:\n",
    "            bw_val = 255\n",
    "        else:\n",
    "            bw_val = np.uint8(pixel_sum)\n",
    "        bw_val -= 255\n",
    "        img_out[y, x] = bw_val"
   ]
  },
  {
   "cell_type": "code",
   "execution_count": 4,
   "metadata": {
    "scrolled": true
   },
   "outputs": [
    {
     "data": {
      "text/plain": [
       "True"
      ]
     },
     "execution_count": 4,
     "metadata": {},
     "output_type": "execute_result"
    }
   ],
   "source": [
    "cv2.imwrite(img_str_out,img_out)"
   ]
  },
  {
   "cell_type": "code",
   "execution_count": 5,
   "metadata": {},
   "outputs": [
    {
     "name": "stdout",
     "output_type": "stream",
     "text": [
      "130560.0\n",
      "130565\n",
      "130743\n",
      "130694\n",
      "130659\n",
      "130579\n"
     ]
    },
    {
     "ename": "KeyboardInterrupt",
     "evalue": "",
     "output_type": "error",
     "traceback": [
      "\u001b[0;31m---------------------------------------------------------------------------\u001b[0m",
      "\u001b[0;31mKeyboardInterrupt\u001b[0m                         Traceback (most recent call last)",
      "\u001b[0;32m<ipython-input-5-e05472a7140a>\u001b[0m in \u001b[0;36m<module>\u001b[0;34m\u001b[0m\n\u001b[1;32m     20\u001b[0m             \u001b[0;32mfor\u001b[0m \u001b[0mx\u001b[0m \u001b[0;32min\u001b[0m \u001b[0mrange\u001b[0m\u001b[0;34m(\u001b[0m\u001b[0mleft\u001b[0m\u001b[0;34m,\u001b[0m \u001b[0mright\u001b[0m \u001b[0;34m+\u001b[0m \u001b[0;36m1\u001b[0m\u001b[0;34m)\u001b[0m\u001b[0;34m:\u001b[0m\u001b[0;34m\u001b[0m\u001b[0;34m\u001b[0m\u001b[0m\n\u001b[1;32m     21\u001b[0m                 \u001b[0mpixel_sum\u001b[0m \u001b[0;34m+=\u001b[0m \u001b[0mimg_out\u001b[0m\u001b[0;34m[\u001b[0m\u001b[0my\u001b[0m\u001b[0;34m,\u001b[0m \u001b[0mx\u001b[0m\u001b[0;34m]\u001b[0m\u001b[0;34m[\u001b[0m\u001b[0;36m0\u001b[0m\u001b[0;34m]\u001b[0m\u001b[0;34m\u001b[0m\u001b[0;34m\u001b[0m\u001b[0m\n\u001b[0;32m---> 22\u001b[0;31m                 \u001b[0;32mif\u001b[0m \u001b[0mpixel_sum\u001b[0m \u001b[0;34m>=\u001b[0m \u001b[0mcap\u001b[0m\u001b[0;34m:\u001b[0m\u001b[0;34m\u001b[0m\u001b[0;34m\u001b[0m\u001b[0m\n\u001b[0m\u001b[1;32m     23\u001b[0m                     \u001b[0mprint\u001b[0m\u001b[0;34m(\u001b[0m\u001b[0mpixel_sum\u001b[0m\u001b[0;34m)\u001b[0m\u001b[0;34m\u001b[0m\u001b[0;34m\u001b[0m\u001b[0m\n\u001b[1;32m     24\u001b[0m                     \u001b[0;31m# Store window contents as image.\u001b[0m\u001b[0;34m\u001b[0m\u001b[0;34m\u001b[0m\u001b[0;34m\u001b[0m\u001b[0m\n",
      "\u001b[0;31mKeyboardInterrupt\u001b[0m: "
     ]
    }
   ],
   "source": [
    "# Create sliding window.\n",
    "block_dim = 32\n",
    "left = 0\n",
    "right = block_dim\n",
    "top = 0\n",
    "bottom = block_dim\n",
    "frame_index = 1\n",
    "pixel_sum = 0\n",
    "cap = np.power(block_dim, 2) * 255 * 0.5\n",
    "print(cap)\n",
    "\n",
    "# Find the Region Of Interest (ROI).\n",
    "while bottom < height:\n",
    "    found_y = False\n",
    "    while right < width:\n",
    "        found_x = False\n",
    "        pixel_sum = 0\n",
    "        # ROI pixel processing\n",
    "        for y in range(top, bottom + 1):\n",
    "            for x in range(left, right + 1):\n",
    "                pixel_sum += img_out[y, x][0]\n",
    "                if pixel_sum >= cap:\n",
    "                    print(pixel_sum)\n",
    "                    # Store window contents as image.\n",
    "                    img_roi_1 = img_sample_1[top:bottom, left:right]\n",
    "                    img_roi_2 = img_sample_2[top:bottom, left:right]\n",
    "                    \n",
    "                    cv2.imwrite('./images/blocks/block' + str(frame_index) + '_1.jpg', img_roi_1)\n",
    "                    cv2.imwrite('./images/blocks/block' + str(frame_index) + '_2.jpg', img_roi_2)\n",
    "                    frame_index += 1\n",
    "                    \n",
    "                    # Exit both for loops.\n",
    "                    found_x = True\n",
    "                    break\n",
    "            if found_x:\n",
    "                break\n",
    "        # Shift horizontally\n",
    "        if found_x:\n",
    "            found_y = True\n",
    "            left += int(block_dim / 2)\n",
    "            right += int(block_dim / 2)\n",
    "        else:\n",
    "            left += 1\n",
    "            right += 1\n",
    "    # Shift vertically\n",
    "    if found_y:\n",
    "        top += int(block_dim / 2)\n",
    "        bottom += int(block_dim / 2)\n",
    "    else:\n",
    "        top += 1\n",
    "        bottom += 1\n",
    "    left = 0\n",
    "    right = block_dim"
   ]
  },
  {
   "cell_type": "code",
   "execution_count": null,
   "metadata": {},
   "outputs": [],
   "source": [
    "print(Done!)"
   ]
  }
 ],
 "metadata": {
  "kernelspec": {
   "display_name": "Python 3",
   "language": "python",
   "name": "python3"
  },
  "language_info": {
   "codemirror_mode": {
    "name": "ipython",
    "version": 3
   },
   "file_extension": ".py",
   "mimetype": "text/x-python",
   "name": "python",
   "nbconvert_exporter": "python",
   "pygments_lexer": "ipython3",
   "version": "3.7.2"
  }
 },
 "nbformat": 4,
 "nbformat_minor": 2
}
