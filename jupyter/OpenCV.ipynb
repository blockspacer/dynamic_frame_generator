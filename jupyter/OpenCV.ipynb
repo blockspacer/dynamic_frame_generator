{
 "cells": [
  {
   "cell_type": "code",
   "execution_count": 85,
   "metadata": {},
   "outputs": [],
   "source": [
    "import cv2 as cv2\n",
    "import numpy as np\n",
    "img_str_1 = './images/samples/sample1.jpg'\n",
    "img_str_2 = './images/samples/sample2.jpg'\n",
    "img_str_out = './images/output.jpg'"
   ]
  },
  {
   "cell_type": "code",
   "execution_count": 86,
   "metadata": {
    "scrolled": true
   },
   "outputs": [
    {
     "name": "stdout",
     "output_type": "stream",
     "text": [
      "275 183 717 478\n"
     ]
    }
   ],
   "source": [
    "img_sample_1 = cv2.imread(img_str_1)\n",
    "height_1, width_1 = img_sample_1.shape[:2]\n",
    "img_sample_2 = cv2.imread(img_str_2)\n",
    "height_2, width_2 = img_sample_2.shape[:2]\n",
    "\n",
    "print(width_1, height_1, width_2, height_2)\n",
    "\n",
    "height = height_1\n",
    "width = width_1\n",
    "if height_1 > height_2 or width_1 > width_2:\n",
    "    height = height_2\n",
    "    width = width_2"
   ]
  },
  {
   "cell_type": "code",
   "execution_count": 87,
   "metadata": {},
   "outputs": [],
   "source": [
    "img_out = np.ones((height, width, 3), np.uint8)\n",
    "\n",
    "# Loop through each pixel.\n",
    "for y in range(0, height):\n",
    "    for x in range(0, width):\n",
    "        #print(img_sample_1[y, x], img_sample_2[y, x])\n",
    "        pixel_out = img_sample_1[y, x] ^ img_sample_2[y, x]\n",
    "        #print(pixel_out)\n",
    "        bw_val = int(pixel_out[0]) + int(pixel_out[1]) + int(pixel_out[2])\n",
    "        if bw_val > 255:\n",
    "            bw_val = 255\n",
    "        bw_val -= 255\n",
    "        img_out[y, x] = bw_val"
   ]
  },
  {
   "cell_type": "code",
   "execution_count": 88,
   "metadata": {
    "scrolled": true
   },
   "outputs": [
    {
     "data": {
      "text/plain": [
       "True"
      ]
     },
     "execution_count": 88,
     "metadata": {},
     "output_type": "execute_result"
    }
   ],
   "source": [
    "cv2.imwrite(img_str_out,img_out)"
   ]
  },
  {
   "cell_type": "code",
   "execution_count": null,
   "metadata": {},
   "outputs": [],
   "source": []
  }
 ],
 "metadata": {
  "kernelspec": {
   "display_name": "Python 3",
   "language": "python",
   "name": "python3"
  },
  "language_info": {
   "codemirror_mode": {
    "name": "ipython",
    "version": 3
   },
   "file_extension": ".py",
   "mimetype": "text/x-python",
   "name": "python",
   "nbconvert_exporter": "python",
   "pygments_lexer": "ipython3",
   "version": "3.7.2"
  }
 },
 "nbformat": 4,
 "nbformat_minor": 2
}
